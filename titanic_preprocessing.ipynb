{
 "cells": [
  {
   "cell_type": "markdown",
   "id": "351c80ec",
   "metadata": {},
   "source": [
    "# Titanic Data Cleaning and Preprocessing"
   ]
  },
  {
   "cell_type": "code",
   "execution_count": null,
   "id": "8861228b",
   "metadata": {},
   "outputs": [],
   "source": [
    "import pandas as pd\n",
    "import numpy as np\n",
    "import seaborn as sns\n",
    "import matplotlib.pyplot as plt\n",
    "from sklearn.preprocessing import StandardScaler"
   ]
  },
  {
   "cell_type": "code",
   "execution_count": null,
   "id": "9808a8b3",
   "metadata": {},
   "outputs": [],
   "source": [
    "df = pd.read_csv(\"titanic.csv\")\n",
    "df.head()"
   ]
  },
  {
   "cell_type": "code",
   "execution_count": null,
   "id": "1a68b0c0",
   "metadata": {},
   "outputs": [],
   "source": [
    "print(\"--- Data Info ---\")\n",
    "df.info()\n",
    "print(\"\\n--- Summary Statistics ---\")\n",
    "print(df.describe())\n",
    "print(\"\\n--- Null Values ---\")\n",
    "print(df.isnull().sum())"
   ]
  },
  {
   "cell_type": "code",
   "execution_count": null,
   "id": "57e7549f",
   "metadata": {},
   "outputs": [],
   "source": [
    "df['Age'].fillna(df['Age'].median(), inplace=True)\n",
    "df['Embarked'].fillna(df['Embarked'].mode()[0], inplace=True)\n",
    "df.drop(columns='Cabin', inplace=True)"
   ]
  },
  {
   "cell_type": "code",
   "execution_count": null,
   "id": "890377f2",
   "metadata": {},
   "outputs": [],
   "source": [
    "df = pd.get_dummies(df, columns=['Sex', 'Embarked'], drop_first=True)"
   ]
  },
  {
   "cell_type": "code",
   "execution_count": null,
   "id": "f404ce57",
   "metadata": {},
   "outputs": [],
   "source": [
    "scaler = StandardScaler()\n",
    "df[['Age', 'Fare']] = scaler.fit_transform(df[['Age', 'Fare']])"
   ]
  },
  {
   "cell_type": "code",
   "execution_count": null,
   "id": "286ec436",
   "metadata": {},
   "outputs": [],
   "source": [
    "sns.boxplot(x=df['Age'])\n",
    "plt.title('Boxplot of Age')\n",
    "plt.show()\n",
    "\n",
    "sns.boxplot(x=df['Fare'])\n",
    "plt.title('Boxplot of Fare')\n",
    "plt.show()"
   ]
  },
  {
   "cell_type": "code",
   "execution_count": null,
   "id": "0f005f52",
   "metadata": {},
   "outputs": [],
   "source": [
    "Q1 = df[['Age', 'Fare']].quantile(0.25)\n",
    "Q3 = df[['Age', 'Fare']].quantile(0.75)\n",
    "IQR = Q3 - Q1\n",
    "condition = ~((df[['Age', 'Fare']] < (Q1 - 1.5 * IQR)) | (df[['Age', 'Fare']] > (Q3 + 1.5 * IQR))).any(axis=1)\n",
    "df = df[condition]"
   ]
  },
  {
   "cell_type": "code",
   "execution_count": null,
   "id": "815f2461",
   "metadata": {},
   "outputs": [],
   "source": [
    "df.head()"
   ]
  }
 ],
 "metadata": {},
 "nbformat": 4,
 "nbformat_minor": 5
}
